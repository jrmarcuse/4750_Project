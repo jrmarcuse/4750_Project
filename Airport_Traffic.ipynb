{
 "cells": [
  {
   "cell_type": "markdown",
   "metadata": {},
   "source": [
    "# BEE 4750: Final Project\n",
    "\n",
    "Members: Jonathan Marcuse (jrm564), Geovany Rodriguez (ga283), Oliver Sandiford (ots22)"
   ]
  },
  {
   "cell_type": "code",
   "execution_count": 115,
   "metadata": {},
   "outputs": [
    {
     "name": "stderr",
     "output_type": "stream",
     "text": [
      "\u001b[32m\u001b[1m  Activating\u001b[22m\u001b[39m project at `~/Desktop/Final Projects/4750_Project`\n"
     ]
    }
   ],
   "source": [
    "import Pkg\n",
    "Pkg.activate(@__DIR__)\n",
    "Pkg.instantiate()"
   ]
  },
  {
   "cell_type": "code",
   "execution_count": 116,
   "metadata": {},
   "outputs": [
    {
     "name": "stderr",
     "output_type": "stream",
     "text": [
      "\u001b[32m\u001b[1m   Resolving\u001b[22m\u001b[39m package versions...\n"
     ]
    },
    {
     "name": "stderr",
     "output_type": "stream",
     "text": [
      "\u001b[32m\u001b[1m  No Changes\u001b[22m\u001b[39m to `~/Desktop/Final Projects/4750_Project/Project.toml`\n",
      "\u001b[32m\u001b[1m  No Changes\u001b[22m\u001b[39m to `~/Desktop/Final Projects/4750_Project/Manifest.toml`\n"
     ]
    },
    {
     "name": "stderr",
     "output_type": "stream",
     "text": [
      "\u001b[32m\u001b[1m   Resolving\u001b[22m\u001b[39m package versions...\n"
     ]
    },
    {
     "name": "stderr",
     "output_type": "stream",
     "text": [
      "\u001b[32m\u001b[1m  No Changes\u001b[22m\u001b[39m to `~/Desktop/Final Projects/4750_Project/Project.toml`\n",
      "\u001b[32m\u001b[1m  No Changes\u001b[22m\u001b[39m to `~/Desktop/Final Projects/4750_Project/Manifest.toml`\n"
     ]
    },
    {
     "name": "stderr",
     "output_type": "stream",
     "text": [
      "\u001b[32m\u001b[1m   Resolving\u001b[22m\u001b[39m package versions...\n"
     ]
    },
    {
     "name": "stderr",
     "output_type": "stream",
     "text": [
      "\u001b[32m\u001b[1m  No Changes\u001b[22m\u001b[39m to `~/Desktop/Final Projects/4750_Project/Project.toml`\n",
      "\u001b[32m\u001b[1m  No Changes\u001b[22m\u001b[39m to `~/Desktop/Final Projects/4750_Project/Manifest.toml`\n"
     ]
    },
    {
     "name": "stderr",
     "output_type": "stream",
     "text": [
      "\u001b[32m\u001b[1m   Resolving\u001b[22m\u001b[39m package versions...\n"
     ]
    },
    {
     "name": "stderr",
     "output_type": "stream",
     "text": [
      "\u001b[32m\u001b[1m  No Changes\u001b[22m\u001b[39m to `~/Desktop/Final Projects/4750_Project/Project.toml`\n",
      "\u001b[32m\u001b[1m  No Changes\u001b[22m\u001b[39m to `~/Desktop/Final Projects/4750_Project/Manifest.toml`\n"
     ]
    },
    {
     "name": "stderr",
     "output_type": "stream",
     "text": [
      "\u001b[32m\u001b[1m   Resolving\u001b[22m\u001b[39m package versions...\n"
     ]
    },
    {
     "name": "stderr",
     "output_type": "stream",
     "text": [
      "\u001b[32m\u001b[1m  No Changes\u001b[22m\u001b[39m to `~/Desktop/Final Projects/4750_Project/Project.toml`\n",
      "\u001b[32m\u001b[1m  No Changes\u001b[22m\u001b[39m to `~/Desktop/Final Projects/4750_Project/Manifest.toml`\n"
     ]
    }
   ],
   "source": [
    "#initiating several packages that may be useful later\n",
    "Pkg.add(\"Plots\")\n",
    "Pkg.add(\"CSV\")\n",
    "Pkg.add(\"DataFrames\")\n",
    "Pkg.add(\"Dates\")\n",
    "Pkg.add(\"Distributions\")\n",
    "using Plots\n",
    "using CSV\n",
    "using DataFrames\n",
    "using Dates\n",
    "using Distributions"
   ]
  },
  {
   "cell_type": "markdown",
   "metadata": {},
   "source": [
    "#### Implementing the first component of the model - Determining how many aircrafts can land per hour"
   ]
  },
  {
   "cell_type": "code",
   "execution_count": 117,
   "metadata": {},
   "outputs": [
    {
     "data": {
      "text/plain": [
       "1×3 Matrix{Float64}:\n",
       " 1.64579  1.11914  1.81037"
      ]
     },
     "metadata": {},
     "output_type": "display_data"
    }
   ],
   "source": [
    "#Initialize flexible variables\n",
    "aircraft_landing_speeds = [130 137.5 145 152.5 160]; #landing speeds of each type of aircraft in knots (interpolated)\n",
    "proportions = [0.101333333 0.248 0.242666667 0.370666667 0.037333333]; #proportion of each type of aircraft, corresponding to the number of ones listed above\n",
    "delta = 3; #minimum spacing between aircrafts in nautical miles (safety parameter) - taken from CEE 4640 safety parameter\n",
    "gamma = [(10000/6076.11549) (6800/6076.11549) (11000/6076.11549)]; #length of the runway in nautical miles for each runway\n",
    "#converted length in ft to nautical miles with 6,076.11549 ft per nautical mile\n",
    "#The first 2 runways are for landing only and the third is for takeoff only"
   ]
  },
  {
   "cell_type": "code",
   "execution_count": 118,
   "metadata": {},
   "outputs": [
    {
     "name": "stdout",
     "output_type": "stream",
     "text": [
      "The average amount of time in between aircraft landings each hour on runway 1 is 76.02652327219118 seconds\n",
      "The total number of aircrafts that can land per hour on average on runway 1 is 47.0 aircrafts/hour\n",
      " \n",
      "The average amount of time in between aircraft landings each hour on runway 2 is 75.61570264937018 seconds\n",
      "The total number of aircrafts that can land per hour on average on runway 2 is 47.0 aircrafts/hour\n",
      " \n",
      "The average amount of time in between aircraft takeoffs each hour on runway 3 is 76.15490471682274 seconds\n",
      "The total number of aircrafts that can take off per hour on average on runway 3 is 47.0 aircrafts/hour\n"
     ]
    }
   ],
   "source": [
    "for k in 1:2\n",
    "    l = length(aircraft_landing_speeds);\n",
    "    Time_Space = zeros(l,l);\n",
    "    Time_Probabilities = zeros(l,l);\n",
    "    for i in 1:l\n",
    "        for j in 1:l\n",
    "            Time_Space[i,j] = aircraft_landing_speeds[i] > aircraft_landing_speeds[j] ? ((delta/aircraft_landing_speeds[i])*3600) : (((delta/aircraft_landing_speeds[i])+(gamma[k]/aircraft_landing_speeds[i])-(gamma[k]/aircraft_landing_speeds[j]))*3600)\n",
    "            Time_Probabilities[i,j] = proportions[i]*proportions[j]*Time_Space[i,j];\n",
    "        end\n",
    "    end\n",
    "    avg_time = sum(Time_Probabilities); #total average seconds between aircraft landings\n",
    "    aircrafts_per_hour = floor((1/avg_time)*3600); #floor functin used because you cant have a fraction of an aircraft land\n",
    "    println(\"The average amount of time in between aircraft landings each hour on runway $k is $avg_time seconds\")\n",
    "    println(\"The total number of aircrafts that can land per hour on average on runway $k is $aircrafts_per_hour aircrafts/hour\")\n",
    "    println(\" \")\n",
    "end\n",
    "k=3\n",
    "l = length(aircraft_landing_speeds);\n",
    "Time_Space = zeros(l,l);\n",
    "Time_Probabilities = zeros(l,l);\n",
    "for i in 1:l\n",
    "    for j in 1:l\n",
    "        Time_Space[i,j] = aircraft_landing_speeds[i] > aircraft_landing_speeds[j] ? ((delta/aircraft_landing_speeds[i])*3600) : (((delta/aircraft_landing_speeds[i])+(gamma[k]/aircraft_landing_speeds[i])-(gamma[k]/aircraft_landing_speeds[j]))*3600)\n",
    "        Time_Probabilities[i,j] = proportions[i]*proportions[j]*Time_Space[i,j];\n",
    "    end\n",
    "end\n",
    "avg_time = sum(Time_Probabilities); #total average seconds between aircraft landings\n",
    "aircrafts_per_hour = floor((1/avg_time)*3600); #floor functin used because you cant have a fraction of an aircraft land\n",
    "println(\"The average amount of time in between aircraft takeoffs each hour on runway $k is $avg_time seconds\")\n",
    "println(\"The total number of aircrafts that can take off per hour on average on runway $k is $aircrafts_per_hour aircrafts/hour\")\n"
   ]
  },
  {
   "cell_type": "markdown",
   "metadata": {},
   "source": [
    "The first matrix above is the needed spacing between aircrafts landing in seconds, where the first row and first column are the speed of the first aircraft listed in the aircraft_landing_speeds vector. The second matrix above is the proportion of each type of aircraft multiplied by each other and then by the time spacing to form the time probability matrix that will later be used to find the total average time between aircrafts by summing all of its elements."
   ]
  },
  {
   "cell_type": "markdown",
   "metadata": {},
   "source": [
    "---"
   ]
  },
  {
   "cell_type": "markdown",
   "metadata": {},
   "source": [
    "- historical runway usage --> flight demand data\n",
    "- weather conditions --> what weather conditions cause flight to be cancelled\n",
    "- Air traffic volume & air wake concerns--> model already built out\n",
    "- passenger load and unload time"
   ]
  },
  {
   "cell_type": "markdown",
   "metadata": {},
   "source": [
    "Average number of days per month with wind speeds above 38mph:\n",
    "January had 1.7 days above 38mph, 1.7 feb, 1.6 days in march, 0.2 april, 0 may, 0 june, 0 july, 0 august, 0 sept, 0.1 oct, 0.4 nov, 1.9 dec"
   ]
  },
  {
   "cell_type": "markdown",
   "metadata": {},
   "source": [
    "---"
   ]
  },
  {
   "cell_type": "markdown",
   "metadata": {},
   "source": [
    "### Create A Distribution of All Planes"
   ]
  },
  {
   "cell_type": "code",
   "execution_count": 119,
   "metadata": {},
   "outputs": [
    {
     "data": {
      "text/plain": [
       "Categorical{Float64, Vector{Float64}}(\n",
       "support: Base.OneTo(5)\n",
       "p: [0.101333333, 0.248, 0.242666667, 0.370666667, 0.037333333]\n",
       ")\n"
      ]
     },
     "metadata": {},
     "output_type": "display_data"
    }
   ],
   "source": [
    "#value is the speed of the selected aircraft as this is what is relevance for wake calculations\n",
    "aircraft_landing_speeds = [130, 137.5, 145, 152.5, 160]; \n",
    "proportions = [0.101333333, 0.248, 0.242666667, 0.370666667, 0.037333333]; #proportions of each\n",
    "plane_dist = Categorical(proportions);\n",
    "#Creating the distribution to select planes from \n",
    "#plane_distribution = Weighted(aircraft_landing_speeds, proportions);\n",
    "\n",
    "\n",
    "### for iteration codeblock\n",
    "#selected_plane = rand(plane_distribution);"
   ]
  },
  {
   "cell_type": "markdown",
   "metadata": {},
   "source": [
    "### Create function to find separation time between two types of aircrafts"
   ]
  },
  {
   "cell_type": "code",
   "execution_count": 120,
   "metadata": {},
   "outputs": [
    {
     "data": {
      "text/plain": [
       "wake_time (generic function with 1 method)"
      ]
     },
     "metadata": {},
     "output_type": "display_data"
    }
   ],
   "source": [
    "function wake_time(plane1_speed,plane2_speed,min_spacing,runway_length)\n",
    "    Time_Space = plane1_speed > plane2_speed ? \n",
    "    ((min_spacing/plane1_speed)*3600) : \n",
    "    (((min_spacing/plane1_speed)+(runway_length/plane1_speed)\n",
    "    -(runway_length/plane2_speed))*3600);\n",
    "    return Time_Space\n",
    "end"
   ]
  },
  {
   "cell_type": "markdown",
   "metadata": {},
   "source": [
    "---"
   ]
  },
  {
   "cell_type": "markdown",
   "metadata": {},
   "source": [
    "### Monte Carlo Iteration of EWR Air Traffic Model"
   ]
  },
  {
   "cell_type": "code",
   "execution_count": 159,
   "metadata": {},
   "outputs": [
    {
     "name": "stdout",
     "output_type": "stream",
     "text": [
      "It will take 4.5784 days for all 8621 planes to land and departure\n",
      "compared to the 7 days for 8621 planes to land under normal opertations\n"
     ]
    }
   ],
   "source": [
    "days = zeros(5000);\n",
    "#Monte Carlo loop\n",
    "for j in 1:5000\n",
    "\n",
    "    tot_planes_per_week = 8621; #planes per week\n",
    "    min_spacing = 3; #nautical miles (safety parameter for distance between aircrafts in air)\n",
    "    runway1_length = (10000/6076.11549); #nautical miles for runway 1\n",
    "    runway2_length = (11000/6076.11549); #nautical miles for runway 2\n",
    "    t = zeros(Float64, 2); #initial time at beginning of iteration where position 2 a tracker for time related to arrivals and position 1 is related to departures\n",
    "    i=1; #initialize iteration stepper\n",
    "\n",
    "    full_gates = 72; #60% of 121 gates full initially and this can never go above 121\n",
    "    plane = zeros(tot_planes_per_week); #initialize\n",
    "    selected_plane = rand(plane_dist);\n",
    "    plane[i] = aircraft_landing_speeds[selected_plane] #select the first for comparison to the next in the for loop\n",
    "\n",
    "    while full_gates <=121 && i<=tot_planes_per_week-1 #loop fails if gate capacity fills and terminates if all planes land and depart\n",
    "        i = i+1 #iterate plane number of the week\n",
    "        selected_plane = rand(plane_dist); #randomly select an index 1 through 5 based on weighted distribution\n",
    "        plane[i] = aircraft_landing_speeds[selected_plane]; #use the randomly chosen index to get the associated plane landing/takeoff speed\n",
    "\n",
    "        landing_wake_time_separation = (wake_time(plane[i],plane[i-1],min_spacing,runway1_length))/2; #divided by 2 to assume two runways used\n",
    "        t[2] = t[2]+landing_wake_time_separation; #time step of wake separation times\n",
    "        full_gates = full_gates+1; #one new plane at the gate\n",
    "\n",
    "        #time delays after landing\n",
    "        deplane_and_boarding = 90*60+120; #90 minutes per plane to board and deplane and 2 min for taxi\n",
    "        takeoff_wake_time_separation = wake_time(plane[i-1],plane[i],min_spacing,runway1_length); #reversed planes and not divided by 2 to make sure every landing plane also takes off, but at half the separation time\n",
    "        time_for_departure = max(takeoff_wake_time_separation,deplane_and_boarding/full_gates); #amount of time for each gate to be ready to fly another plane\n",
    "        \n",
    "        if t[2]-t[1]>=time_for_departure #situation where a departure has occured since the last arrival\n",
    "            departures = floor((t[2]-t[1])/time_for_departure); #number of departures that could've occured in this delta t\n",
    "            full_gates = full_gates-departures; #subtract number of full gates\n",
    "            t[1] = t[1]+time_for_departure*departures; #additional time iteration for departures\n",
    "        elseif t[2]-t[1]<time_for_departure && full_gates==121 #situation where no departure since last arrival and gates are all full\n",
    "            t[2] = t[1]+time_for_departure; #time step increase to have arrivals delayed until gate space is open\n",
    "            full_gates = full_gates-1;\n",
    "        end\n",
    "    end\n",
    "\n",
    "    days[j] = t[2]/86400;\n",
    "end\n",
    "\n",
    "println(\"It will take $(round(sum(days)/length(days),digits=4)) days for all $i planes to land and departure\n",
    "compared to the 7 days for 8621 planes to land under normal opertations\")"
   ]
  },
  {
   "cell_type": "markdown",
   "metadata": {},
   "source": [
    "Assumptions made in the above:\n",
    "- starting gate capacity will be 72 out of 121, but for the majority of the rest of the week it will run at full capacity (can constrain lower if needed)\n",
    "- total time between takeoffs will be the wake time separation between aircrafts OR the waiting time for deplane, boarding and taxi divided by the total number of gates which gives you the total time in between filled gates with planes ready to depart: whichever of these 2 is greatest will be used\n",
    "- total time between landings will be the wake separation equation because it also includes length of the runway parameter to ensure it is cleared before the next landing\n",
    "- Not really an assumption but an added explanation to the above code: The takeoffs and landings must be coordinated such that the total number of grounded planes filling gates is not exceeded which is why we have the if statements for additional time steps\n",
    "\n",
    "\n",
    "Still need to:\n",
    "- Add delays from weather\n",
    "- Get something to be graphed\n",
    "- Total people transported in alloted timeframe\n",
    "- Associated Emissions? Needs some environmental aspect"
   ]
  },
  {
   "cell_type": "markdown",
   "metadata": {},
   "source": [
    "---"
   ]
  },
  {
   "cell_type": "markdown",
   "metadata": {},
   "source": [
    "### Load in Wind Speed Data\n",
    "This has the wind speeds at Newark for every 3 minutes of the month of August in 2023. This will be used to tell us how much to delay flights by given the wind speed. Based on our background research, if the wind speed is between 30mph and 40pmh, the aircraft will be delayed by 30 minutes after the latest instance of winds in that speed. If the wind speed is greater than 40mph, the aircraft will be delayed by 1 hour from the latest instance of that wind speed. If the wind speed is under 30mph it is clear for takeoff."
   ]
  },
  {
   "cell_type": "code",
   "execution_count": 122,
   "metadata": {},
   "outputs": [],
   "source": [
    "# Load the CSV file into a DataFrame\n",
    "Wind_DataFrame = DataFrame(CSV.File(\"Wind_Data.csv\"));\n",
    "\n",
    "# Extract wind speed and date columns\n",
    "wind_speed = Wind_DataFrame.\"Wind Speed (mph)\";\n",
    "date_string = Wind_DataFrame.\"Date\";\n",
    "\n",
    "# Parse the date string with the correct format\n",
    "date_value = Dates.DateTime.(date_string, \"mm/dd/yyyy HH:MM\");"
   ]
  }
 ],
 "metadata": {
  "kernelspec": {
   "display_name": "Julia 1.9.2",
   "language": "julia",
   "name": "julia-1.9"
  },
  "language_info": {
   "file_extension": ".jl",
   "mimetype": "application/julia",
   "name": "julia",
   "version": "1.9.2"
  }
 },
 "nbformat": 4,
 "nbformat_minor": 2
}
