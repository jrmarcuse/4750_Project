{
 "cells": [
  {
   "cell_type": "markdown",
   "metadata": {},
   "source": [
    "# BEE 4750: Final Project\n",
    "\n",
    "Members: Jonathan Marcuse (jrm564), Geovany Rodriguez (ga283), Oliver Sandiford (ots22)"
   ]
  },
  {
   "cell_type": "code",
   "execution_count": 19,
   "metadata": {},
   "outputs": [
    {
     "name": "stderr",
     "output_type": "stream",
     "text": [
      "\u001b[32m\u001b[1m  Activating\u001b[22m\u001b[39m project at `~/Desktop/Final Projects/4750_Project`\n"
     ]
    }
   ],
   "source": [
    "import Pkg\n",
    "Pkg.activate(@__DIR__)\n",
    "Pkg.instantiate()"
   ]
  },
  {
   "cell_type": "code",
   "execution_count": 20,
   "metadata": {},
   "outputs": [
    {
     "name": "stderr",
     "output_type": "stream",
     "text": [
      "\u001b[32m\u001b[1m   Resolving\u001b[22m\u001b[39m package versions...\n"
     ]
    },
    {
     "name": "stderr",
     "output_type": "stream",
     "text": [
      "\u001b[32m\u001b[1m  No Changes\u001b[22m\u001b[39m to `~/Desktop/Final Projects/4750_Project/Project.toml`\n",
      "\u001b[32m\u001b[1m  No Changes\u001b[22m\u001b[39m to `~/Desktop/Final Projects/4750_Project/Manifest.toml`\n"
     ]
    },
    {
     "name": "stderr",
     "output_type": "stream",
     "text": [
      "\u001b[32m\u001b[1m   Resolving\u001b[22m\u001b[39m package versions...\n"
     ]
    },
    {
     "name": "stderr",
     "output_type": "stream",
     "text": [
      "\u001b[32m\u001b[1m  No Changes\u001b[22m\u001b[39m to `~/Desktop/Final Projects/4750_Project/Project.toml`\n",
      "\u001b[32m\u001b[1m  No Changes\u001b[22m\u001b[39m to `~/Desktop/Final Projects/4750_Project/Manifest.toml`\n"
     ]
    },
    {
     "name": "stderr",
     "output_type": "stream",
     "text": [
      "\u001b[32m\u001b[1m   Resolving\u001b[22m\u001b[39m package versions...\n"
     ]
    },
    {
     "name": "stderr",
     "output_type": "stream",
     "text": [
      "\u001b[32m\u001b[1m  No Changes\u001b[22m\u001b[39m to `~/Desktop/Final Projects/4750_Project/Project.toml`\n",
      "\u001b[32m\u001b[1m  No Changes\u001b[22m\u001b[39m to `~/Desktop/Final Projects/4750_Project/Manifest.toml`\n"
     ]
    },
    {
     "name": "stderr",
     "output_type": "stream",
     "text": [
      "\u001b[32m\u001b[1m   Resolving\u001b[22m\u001b[39m package versions...\n"
     ]
    },
    {
     "name": "stderr",
     "output_type": "stream",
     "text": [
      "\u001b[32m\u001b[1m  No Changes\u001b[22m\u001b[39m to `~/Desktop/Final Projects/4750_Project/Project.toml`\n",
      "\u001b[32m\u001b[1m  No Changes\u001b[22m\u001b[39m to `~/Desktop/Final Projects/4750_Project/Manifest.toml`\n"
     ]
    }
   ],
   "source": [
    "#initiating several packages that may be useful later\n",
    "Pkg.add(\"Plots\")\n",
    "Pkg.add(\"CSV\")\n",
    "Pkg.add(\"DataFrames\")\n",
    "Pkg.add(\"Dates\")\n",
    "using Plots\n",
    "using CSV\n",
    "using DataFrames\n",
    "using Dates"
   ]
  },
  {
   "cell_type": "markdown",
   "metadata": {},
   "source": [
    "#### Implementing the first component of the model - Determining how many aircrafts can land per hour"
   ]
  },
  {
   "cell_type": "code",
   "execution_count": 21,
   "metadata": {},
   "outputs": [
    {
     "data": {
      "text/plain": [
       "1×3 Matrix{Float64}:\n",
       " 1.81037  1.64579  1.11914"
      ]
     },
     "metadata": {},
     "output_type": "display_data"
    }
   ],
   "source": [
    "#Initialize flexible variables\n",
    "aircraft_landing_speeds = [130 137.5 145 152.5 160]; #landing speeds of each type of aircraft in knots (interpolated)\n",
    "proportions = [0.101333333 0.248 0.242666667 0.370666667 0.037333333]; #proportion of each type of aircraft, corresponding to the number of ones listed above\n",
    "delta = 3; #minimum spacing between aircrafts in nautical miles (safety parameter) - taken from CEE 4640 safety parameter\n",
    "gamma = [(11000/6076.11549) (10000/6076.11549) (6800/6076.11549)]; #length of the runway in nautical miles for each runway\n",
    "#converted length in ft to nautical miles with 6,076.11549 ft per nautical mile"
   ]
  },
  {
   "cell_type": "code",
   "execution_count": 25,
   "metadata": {},
   "outputs": [
    {
     "name": "stdout",
     "output_type": "stream",
     "text": [
      "The average amount of time in between aircrafts each hour on runway 1 is 76.15490471682274 seconds\n",
      "The total number of aircrafts that can land per hour on average on runway 1 is 47.0 aircrafts/hour\n",
      " \n",
      "The average amount of time in between aircrafts each hour on runway 2 is 76.02652327219118 seconds\n",
      "The total number of aircrafts that can land per hour on average on runway 2 is 47.0 aircrafts/hour\n",
      " \n",
      "The average amount of time in between aircrafts each hour on runway 3 is 75.61570264937018 seconds\n",
      "The total number of aircrafts that can land per hour on average on runway 3 is 47.0 aircrafts/hour\n",
      " \n"
     ]
    }
   ],
   "source": [
    "for k in 1:3\n",
    "    l = length(aircraft_landing_speeds);\n",
    "    Time_Space = zeros(l,l);\n",
    "    Time_Probabilities = zeros(l,l);\n",
    "    for i in 1:l\n",
    "        for j in 1:l\n",
    "            Time_Space[i,j] = aircraft_landing_speeds[i] > aircraft_landing_speeds[j] ? ((delta/aircraft_landing_speeds[i])*3600) : (((delta/aircraft_landing_speeds[i])+(gamma[k]/aircraft_landing_speeds[i])-(gamma[k]/aircraft_landing_speeds[j]))*3600)\n",
    "            Time_Probabilities[i,j] = proportions[i]*proportions[j]*Time_Space[i,j];\n",
    "        end\n",
    "    end\n",
    "    avg_time = sum(Time_Probabilities); #total average seconds between aircraft landings\n",
    "    aircrafts_per_hour = floor((1/avg_time)*3600); #floor functin used because you cant have a fraction of an aircraft land\n",
    "    println(\"The average amount of time in between aircrafts each hour on runway $k is $avg_time seconds\")\n",
    "    println(\"The total number of aircrafts that can land per hour on average on runway $k is $aircrafts_per_hour aircrafts/hour\")\n",
    "    println(\" \")\n",
    "end"
   ]
  },
  {
   "cell_type": "markdown",
   "metadata": {},
   "source": [
    "The first matrix above is the needed spacing between aircrafts landing in seconds, where the first row and first column are the speed of the first aircraft listed in the aircraft_landing_speeds vector. The second matrix above is the proportion of each type of aircraft multiplied by each other and then by the time spacing to form the time probability matrix that will later be used to find the total average time between aircrafts by summing all of its elements."
   ]
  },
  {
   "cell_type": "markdown",
   "metadata": {},
   "source": [
    "---"
   ]
  },
  {
   "cell_type": "markdown",
   "metadata": {},
   "source": [
    "- historical runway usage --> flight demand data\n",
    "- weather conditions --> what weather conditions cause flight to be cancelled\n",
    "- Air traffic volume & air wake concerns--> model already built out\n",
    "- passenger load and unload time"
   ]
  },
  {
   "cell_type": "markdown",
   "metadata": {},
   "source": [
    "Average number of days per month with wind speeds above 38mph:\n",
    "January had 1.7 days above 38mph, 1.7 feb, 1.6 days in march, 0.2 april, 0 may, 0 june, 0 july, 0 august, 0 sept, 0.1 oct, 0.4 nov, 1.9 dec"
   ]
  },
  {
   "cell_type": "markdown",
   "metadata": {},
   "source": [
    "---"
   ]
  },
  {
   "cell_type": "markdown",
   "metadata": {},
   "source": [
    "### Load in Wind Speed Data\n",
    "This has the wind speeds at Newark for every 3 minutes of the month of August in 2023. This will be used to tell us how much to delay flights by given the wind speed. Based on our background research, if the wind speed is between 30mph and 40pmh, the aircraft will be delayed by 30 minutes after the latest instance of winds in that speed. If the wind speed is greater than 40mph, the aircraft will be delayed by 1 hour from the latest instance of that wind speed. If the wind speed is under 30mph it is clear for takeoff."
   ]
  },
  {
   "cell_type": "code",
   "execution_count": 23,
   "metadata": {},
   "outputs": [],
   "source": [
    "# Load the CSV file into a DataFrame\n",
    "Wind_DataFrame = DataFrame(CSV.File(\"Wind_Data.csv\"));\n",
    "\n",
    "# Extract wind speed and date columns\n",
    "wind_speed = Wind_DataFrame.\"Wind Speed (mph)\";\n",
    "date_string = Wind_DataFrame.\"Date\";\n",
    "\n",
    "# Parse the date string with the correct format\n",
    "date_value = Dates.DateTime.(date_string, \"mm/dd/yyyy HH:MM\");"
   ]
  }
 ],
 "metadata": {
  "kernelspec": {
   "display_name": "Julia 1.9.2",
   "language": "julia",
   "name": "julia-1.9"
  },
  "language_info": {
   "file_extension": ".jl",
   "mimetype": "application/julia",
   "name": "julia",
   "version": "1.9.2"
  }
 },
 "nbformat": 4,
 "nbformat_minor": 2
}
